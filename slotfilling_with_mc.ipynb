{
 "cells": [
  {
   "cell_type": "code",
   "execution_count": 25,
   "metadata": {},
   "outputs": [],
   "source": [
    "import tensorflow as tf\n",
    "import os\n",
    "import numpy as np\n",
    "import ujson as json\n",
    "from importlib import reload\n",
    "from scipy import stats\n",
    "\n",
    "from func import cudnn_gru, native_gru, dot_attention, summ, ptr_net\n",
    "from prepro import word_tokenize, convert_idx\n",
    "import inference\n",
    "\n",
    "# reload(inference.InfModel)\n",
    "# reload(inference.Inference)"
   ]
  },
  {
   "cell_type": "markdown",
   "metadata": {},
   "source": [
    "# R-NET样例测试，输出置信度"
   ]
  },
  {
   "cell_type": "code",
   "execution_count": 2,
   "metadata": {},
   "outputs": [
    {
     "name": "stdout",
     "output_type": "stream",
     "text": [
      "INFO:tensorflow:Restoring parameters from log/model\\model_44000.ckpt\n"
     ]
    }
   ],
   "source": [
    "tf.reset_default_graph()\n",
    "\n",
    "os.environ[\"TF_CPP_MIN_LOG_LEVEL\"] = \"3\"\n",
    "\n",
    "# Must be consistant with training\n",
    "char_limit = 16\n",
    "hidden = 75\n",
    "char_dim = 8\n",
    "char_hidden = 100\n",
    "use_cudnn = False\n",
    "\n",
    "# File path\n",
    "target_dir = \"data\"\n",
    "save_dir = \"log/model\"\n",
    "word_emb_file = os.path.join(target_dir, \"word_emb.json\")\n",
    "char_emb_file = os.path.join(target_dir, \"char_emb.json\")\n",
    "word2idx_file = os.path.join(target_dir, \"word2idx.json\")\n",
    "char2idx_file = os.path.join(target_dir, \"char2idx.json\")\n",
    "\n",
    "infer = inference.Inference()"
   ]
  },
  {
   "cell_type": "code",
   "execution_count": 91,
   "metadata": {
    "scrolled": false
   },
   "outputs": [
    {
     "name": "stdout",
     "output_type": "stream",
     "text": [
      "Answer 2: london\n"
     ]
    }
   ],
   "source": [
    "context = \"... michael crawford , right , who is ailing , will not return to his award-winning \" \\\n",
    "          \"role of count fosco in the andrew lloyd webber musical adaptation of the wilkie_collins \" \\\n",
    "          \"classic , '' the woman in white , '' in london as scheduled on may 2 .\"\n",
    "ques2 = \"Where is the birth place of wilkie_collins?\"\n",
    "# ans2 = infer.response(context, ques2)\n",
    "# print(infer.response(context, ques2))\n",
    "\n",
    "ans2, confidence1, confidence2 = infer.response(context, ques2)\n",
    "print(\"Answer 2: {}\".format(ans2))"
   ]
  },
  {
   "cell_type": "code",
   "execution_count": 92,
   "metadata": {},
   "outputs": [],
   "source": [
    "from scipy import stats"
   ]
  },
  {
   "cell_type": "code",
   "execution_count": 93,
   "metadata": {},
   "outputs": [
    {
     "name": "stdout",
     "output_type": "stream",
     "text": [
      "1.2087417\n",
      "0.7490903\n",
      "9.210340371976176\n",
      "4.605170185988092\n",
      "2.3025850929940455\n",
      "0.6931471805599453\n"
     ]
    }
   ],
   "source": [
    "print(stats.entropy(confidence1))\n",
    "print(stats.entropy(confidence2))\n",
    "print(stats.entropy(np.ones((10000))/10000))\n",
    "print(stats.entropy(np.ones((100))/100))\n",
    "print(stats.entropy(np.ones((10))/10))\n",
    "print(stats.entropy(np.ones((2))/2))"
   ]
  },
  {
   "cell_type": "markdown",
   "metadata": {},
   "source": [
    "# 在riedel-NYT数据集上进行验证"
   ]
  },
  {
   "cell_type": "code",
   "execution_count": 3,
   "metadata": {},
   "outputs": [],
   "source": [
    "import pandas as pd"
   ]
  },
  {
   "cell_type": "code",
   "execution_count": 4,
   "metadata": {},
   "outputs": [
    {
     "name": "stderr",
     "output_type": "stream",
     "text": [
      "C:\\ProgramData\\Miniconda3\\lib\\site-packages\\IPython\\core\\interactiveshell.py:2728: DtypeWarning: Columns (4) have mixed types. Specify dtype option on import or set low_memory=False.\n",
      "  interactivity=interactivity, compiler=compiler, result=result)\n"
     ]
    }
   ],
   "source": [
    "file_path = 'origin_data/train.txt'\n",
    "df = pd.read_csv(file_path, sep='\\t', header=None, names=['e1_encoding', 'e2_encoding', 'e1', 'e2', 'relation', 'content'])"
   ]
  },
  {
   "cell_type": "code",
   "execution_count": 5,
   "metadata": {},
   "outputs": [
    {
     "data": {
      "text/plain": [
       "0    sen. charles e. schumer called on federal safe...\n",
       "1    but instead there was a funeral , at st. franc...\n",
       "2    rosemary antonelle , the daughter of teresa l....\n",
       "Name: content, dtype: object"
      ]
     },
     "execution_count": 5,
     "metadata": {},
     "output_type": "execute_result"
    }
   ],
   "source": [
    "df.content.head(3)"
   ]
  },
  {
   "cell_type": "code",
   "execution_count": 6,
   "metadata": {},
   "outputs": [],
   "source": [
    "df.relation = df.relation.fillna('none')\n",
    "relation_series = df.relation.value_counts()\n",
    "selected_relation_series = relation_series[relation_series.values > 1000]\n",
    "relation_list = selected_relation_series.index.values.tolist()"
   ]
  },
  {
   "cell_type": "code",
   "execution_count": 7,
   "metadata": {},
   "outputs": [
    {
     "data": {
      "text/plain": [
       "['none',\n",
       " '/location/location/contains',\n",
       " '/people/person/nationality',\n",
       " '/location/country/capital',\n",
       " '/people/person/place_lived',\n",
       " '/location/neighborhood/neighborhood_of',\n",
       " '/location/country/administrative_divisions',\n",
       " '/location/administrative_division/country',\n",
       " '/business/person/company',\n",
       " '/people/person/place_of_birth',\n",
       " '/people/deceased_person/place_of_death',\n",
       " '/business/company/founders']"
      ]
     },
     "execution_count": 7,
     "metadata": {},
     "output_type": "execute_result"
    }
   ],
   "source": [
    "relation_list"
   ]
  },
  {
   "cell_type": "code",
   "execution_count": 8,
   "metadata": {},
   "outputs": [
    {
     "data": {
      "text/html": [
       "<div>\n",
       "<style scoped>\n",
       "    .dataframe tbody tr th:only-of-type {\n",
       "        vertical-align: middle;\n",
       "    }\n",
       "\n",
       "    .dataframe tbody tr th {\n",
       "        vertical-align: top;\n",
       "    }\n",
       "\n",
       "    .dataframe thead th {\n",
       "        text-align: right;\n",
       "    }\n",
       "</style>\n",
       "<table border=\"1\" class=\"dataframe\">\n",
       "  <thead>\n",
       "    <tr style=\"text-align: right;\">\n",
       "      <th></th>\n",
       "      <th>e1_encoding</th>\n",
       "      <th>e2_encoding</th>\n",
       "      <th>e1</th>\n",
       "      <th>e2</th>\n",
       "      <th>relation</th>\n",
       "      <th>content</th>\n",
       "    </tr>\n",
       "  </thead>\n",
       "  <tbody>\n",
       "    <tr>\n",
       "      <th>0</th>\n",
       "      <td>m.0ccvx</td>\n",
       "      <td>m.05gf08</td>\n",
       "      <td>queens</td>\n",
       "      <td>belle_harbor</td>\n",
       "      <td>/location/location/contains</td>\n",
       "      <td>sen. charles e. schumer called on federal safe...</td>\n",
       "    </tr>\n",
       "    <tr>\n",
       "      <th>1</th>\n",
       "      <td>m.0ccvx</td>\n",
       "      <td>m.05gf08</td>\n",
       "      <td>queens</td>\n",
       "      <td>belle_harbor</td>\n",
       "      <td>/location/location/contains</td>\n",
       "      <td>but instead there was a funeral , at st. franc...</td>\n",
       "    </tr>\n",
       "  </tbody>\n",
       "</table>\n",
       "</div>"
      ],
      "text/plain": [
       "  e1_encoding e2_encoding      e1            e2                     relation  \\\n",
       "0     m.0ccvx    m.05gf08  queens  belle_harbor  /location/location/contains   \n",
       "1     m.0ccvx    m.05gf08  queens  belle_harbor  /location/location/contains   \n",
       "\n",
       "                                             content  \n",
       "0  sen. charles e. schumer called on federal safe...  \n",
       "1  but instead there was a funeral , at st. franc...  "
      ]
     },
     "execution_count": 8,
     "metadata": {},
     "output_type": "execute_result"
    }
   ],
   "source": [
    "# 筛选有效数据集\n",
    "selected_df = df.loc[df['relation'].isin(relation_list)]\n",
    "selected_df.head(2)"
   ]
  },
  {
   "cell_type": "code",
   "execution_count": 11,
   "metadata": {},
   "outputs": [],
   "source": [
    "# 人工构造每种关系的问句\n",
    "relation_to_questions = {\n",
    "     '/location/location/contains':[\n",
    "         'Where is <e2> located in?', \n",
    "         'Where is <e2>?',\n",
    "         'Which place contains <e2>?'],\n",
    "     '/people/person/nationality':['What\\'s the nationality of <e1>?'],\n",
    "     '/location/country/capital':[\n",
    "         'What\\'s the capital of <e2>?', \n",
    "         'Where is the capitcal of <e2>?'],\n",
    "     '/people/person/place_lived': ['Where does <e1> lived in?'],\n",
    "     '/location/neighborhood/neighborhood_of':[\n",
    "         'What is the neighborhood of <e1>?', \n",
    "         'Where is <e1> next to?', \n",
    "         'What place does <e1> adjacent to?'],\n",
    "     '/location/administrative_division/country':[\n",
    "         'Which country does <e1> belong to?', \n",
    "         'Which country does <e1> located in?'],\n",
    "     '/location/country/administrative_divisions':[\n",
    "         'Which country does <e2> belong to?', \n",
    "         'Which country does <e2> located in?'],\n",
    "     '/business/person/company':[\n",
    "         'Which company does <e1> work for?', \n",
    "         'Which company does <e1> join?',\n",
    "         'Where does <e1> work for?',\n",
    "         'What\\'s the occupation of <e1>?',\n",
    "         'Which company hires <e1>?'],\n",
    "     '/people/person/place_of_birth':[\n",
    "         'Where is the birth place of <e1>?',\n",
    "         'Where does <e1> born?',\n",
    "         'Where is the hometown of <e1>?'],\n",
    "     '/people/deceased_person/place_of_death':[\n",
    "         'Where did <e1> died?',\n",
    "         'Where is the place of death of <e1>?'],\n",
    "     '/business/company/founders':[\n",
    "         'Who found <e1>?', \n",
    "         'Who is the founder of <e1>?',\n",
    "         'Who starts <e1>?']\n",
    "}\n",
    "\n",
    "question_to_relation = {}\n",
    "# question_to_relation = {q:relation for q in [qlist ]}\n",
    "for relation, qlist in relation_to_questions.items():\n",
    "    for q in qlist:\n",
    "        question_to_relation[q] = relation"
   ]
  },
  {
   "cell_type": "code",
   "execution_count": 12,
   "metadata": {},
   "outputs": [
    {
     "data": {
      "text/plain": [
       "e1_encoding                                            m.03wt401\n",
       "e2_encoding                                             m.04v49y\n",
       "e1                                                   hank_ratner\n",
       "e2                                                   cablevision\n",
       "relation                                /business/person/company\n",
       "content        cablevision 's $ 600 million offer came in the...\n",
       "Name: 74, dtype: object"
      ]
     },
     "execution_count": 12,
     "metadata": {},
     "output_type": "execute_result"
    }
   ],
   "source": [
    "selected_df[selected_df.relation=='/business/person/company'].iloc[0]"
   ]
  },
  {
   "cell_type": "code",
   "execution_count": 13,
   "metadata": {},
   "outputs": [
    {
     "data": {
      "text/plain": [
       "\"10 p.m. -lrb- mtv -rrb- the hills -- on '' laguna_beach : the real orange county , '' lauren_conrad -lrb- right -rrb- was the emotional blonde who wore every smidgen of excitement or frustration on her face , sometimes both at once . ###END###\""
      ]
     },
     "execution_count": 13,
     "metadata": {},
     "output_type": "execute_result"
    }
   ],
   "source": [
    "selected_df[selected_df.relation=='/people/person/place_lived'].iloc[0].content"
   ]
  },
  {
   "cell_type": "markdown",
   "metadata": {},
   "source": [
    "# 任务构造\n",
    "\n",
    "- 任务一：判定特定关系的结果\n",
    "- 任务二：对于每种潜在关系，测试不同的响应，从而获取任意可能的关系与关系结果"
   ]
  },
  {
   "cell_type": "code",
   "execution_count": 14,
   "metadata": {},
   "outputs": [],
   "source": [
    "# 工具函数\n",
    "\n",
    "def content_prepro(content):\n",
    "    # 可能需要过滤部分特殊标记\n",
    "    content = content[:-10]\n",
    "    return content"
   ]
  },
  {
   "cell_type": "code",
   "execution_count": 56,
   "metadata": {
    "scrolled": true
   },
   "outputs": [],
   "source": [
    "# 任务一\n",
    "def dprint(s):\n",
    "#     print(s)\n",
    "    pass\n",
    "\n",
    "def test_single_relation(relation_name):\n",
    "    exact_cnt = 0  # 完全匹配\n",
    "    hit_cnt = 0  # 部分命中\n",
    "    total_cnt = 1000\n",
    "    pred_list = []\n",
    "    truth_list = []\n",
    "    for idx, row in selected_df[selected_df.relation==relation_name].reset_index().iterrows():\n",
    "\n",
    "        dprint('=============')\n",
    "        dprint(idx)\n",
    "        dprint(row)\n",
    "        content = content_prepro(row.content)\n",
    "        dprint('Content=\\t' + content)\n",
    "\n",
    "        best_loss = 100\n",
    "        best_pred = ''\n",
    "        truth = ''  # 实际上是一样的\n",
    "        for q in relation_to_questions[row.relation]:\n",
    "            # 将问题模板中的实体进行带入\n",
    "            question = q.replace('<e1>', row.e1).replace('<e2>', row.e2)\n",
    "            dprint('Q=\\t' + question)\n",
    "            try:\n",
    "                pred, d1, d2 = infer.response(content, question)  # c1, c2 are confidence of begin and end\n",
    "                c1, c2 = stats.entropy(d1), stats.entropy(d2)\n",
    "                loss = c1*c2\n",
    "                if loss < best_loss:\n",
    "                    best_loss = loss\n",
    "                    best_pred = pred\n",
    "                    truth = str(row.e1 if row.e2 in question else row.e2)\n",
    "                dprint('pred=' + str(pred) + \n",
    "                       '\\tTruth=' + truth + \n",
    "                       '\\tc1=' + str(c1) + '\\tc2=' + str(c2))\n",
    "            except:\n",
    "                continue\n",
    "        if truth !='' and (best_pred in truth or truth in best_pred):\n",
    "            pred_list.append(best_pred)\n",
    "            truth_list.append(truth)\n",
    "            hit_cnt += 1\n",
    "        if idx %10 == 0:\n",
    "            dprint(idx)\n",
    "        if idx > total_cnt:\n",
    "            break\n",
    "    dprint(hit_cnt)\n",
    "    dprint(pred_list[:20])\n",
    "    dprint(truth_list[:20])\n",
    "    return hit_cnt, total_cnt"
   ]
  },
  {
   "cell_type": "code",
   "execution_count": 57,
   "metadata": {
    "scrolled": false
   },
   "outputs": [
    {
     "name": "stdout",
     "output_type": "stream",
     "text": [
      "/location/location/contains\n",
      "Accuracy:459 / 1000\n",
      "/people/person/nationality\n",
      "Accuracy:458 / 1000\n",
      "/location/country/capital\n",
      "Accuracy:105 / 1000\n",
      "/people/person/place_lived\n",
      "Accuracy:604 / 1000\n",
      "/location/neighborhood/neighborhood_of\n",
      "Accuracy:412 / 1000\n",
      "/location/country/administrative_divisions\n",
      "Accuracy:652 / 1000\n",
      "/location/administrative_division/country\n",
      "Accuracy:559 / 1000\n",
      "/business/person/company\n",
      "Accuracy:209 / 1000\n",
      "/people/person/place_of_birth\n",
      "Accuracy:551 / 1000\n",
      "/people/deceased_person/place_of_death\n",
      "Accuracy:413 / 1000\n",
      "/business/company/founders\n",
      "Accuracy:267 / 1000\n"
     ]
    }
   ],
   "source": [
    "for relation in [\n",
    "    '/location/location/contains',\n",
    "    '/people/person/nationality',\n",
    "    '/location/country/capital',\n",
    "    '/people/person/place_lived',\n",
    "    '/location/neighborhood/neighborhood_of',\n",
    "    '/location/country/administrative_divisions',\n",
    "    '/location/administrative_division/country',\n",
    "    '/business/person/company',\n",
    "    '/people/person/place_of_birth',\n",
    "    '/people/deceased_person/place_of_death',\n",
    "    '/business/company/founders'\n",
    "]:\n",
    "    hit_cnt, total_cnt = test_single_relation(relation)\n",
    "    print(relation)\n",
    "    print('Accuracy:' + str(hit_cnt) + ' / ' + str(total_cnt))\n"
   ]
  }
 ],
 "metadata": {
  "kernelspec": {
   "display_name": "Python 3",
   "language": "python",
   "name": "python3"
  },
  "language_info": {
   "codemirror_mode": {
    "name": "ipython",
    "version": 3
   },
   "file_extension": ".py",
   "mimetype": "text/x-python",
   "name": "python",
   "nbconvert_exporter": "python",
   "pygments_lexer": "ipython3",
   "version": "3.6.4"
  }
 },
 "nbformat": 4,
 "nbformat_minor": 2
}
